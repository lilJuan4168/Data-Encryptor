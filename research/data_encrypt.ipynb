{
 "cells": [
  {
   "cell_type": "markdown",
   "metadata": {},
   "source": [
    "<h2>Encrypt File</h2>"
   ]
  },
  {
   "cell_type": "code",
   "execution_count": 1,
   "metadata": {},
   "outputs": [],
   "source": [
    "from cryptography.fernet import Fernet\n",
    "import pickle"
   ]
  },
  {
   "cell_type": "code",
   "execution_count": 4,
   "metadata": {},
   "outputs": [],
   "source": [
    "my_password = \"manuel4168\""
   ]
  },
  {
   "cell_type": "code",
   "execution_count": 5,
   "metadata": {},
   "outputs": [],
   "source": [
    "gen_key = Fernet.generate_key() + my_password.encode('utf-8')\n",
    "file = open(\"my_key.pickle\", \"wb\")\n",
    "pickle.dump(gen_key, file)\n",
    "file.close()"
   ]
  },
  {
   "cell_type": "code",
   "execution_count": 6,
   "metadata": {},
   "outputs": [],
   "source": [
    "key = Fernet(gen_key)"
   ]
  },
  {
   "cell_type": "code",
   "execution_count": 7,
   "metadata": {},
   "outputs": [],
   "source": [
    "with open(\"../vid/mediapipe.mp4\", \"rb\") as v:\n",
    "    video = v.read()"
   ]
  },
  {
   "cell_type": "code",
   "execution_count": 8,
   "metadata": {},
   "outputs": [],
   "source": [
    "video_encripted = key.encrypt(video)"
   ]
  },
  {
   "cell_type": "code",
   "execution_count": 9,
   "metadata": {},
   "outputs": [],
   "source": [
    "file = open(\"vid3.pickle\", \"wb\")\n",
    "pickle.dump(video_encripted, file)\n",
    "file.close()"
   ]
  },
  {
   "cell_type": "markdown",
   "metadata": {},
   "source": [
    "<h2>Encrypt Folder</h2>"
   ]
  },
  {
   "cell_type": "code",
   "execution_count": 52,
   "metadata": {},
   "outputs": [],
   "source": [
    "import os"
   ]
  },
  {
   "cell_type": "code",
   "execution_count": 55,
   "metadata": {},
   "outputs": [],
   "source": [
    "folder_path = \"../vid\""
   ]
  },
  {
   "cell_type": "code",
   "execution_count": null,
   "metadata": {},
   "outputs": [],
   "source": [
    "if os.path.isdir(folder_path):\n",
    "    files = os.listdir(folder_path)"
   ]
  },
  {
   "cell_type": "markdown",
   "metadata": {},
   "source": [
    "<h2>Decrypt</h2>"
   ]
  },
  {
   "cell_type": "code",
   "execution_count": 48,
   "metadata": {},
   "outputs": [],
   "source": [
    "file = open(\"vid.pickle\", \"rb\")\n",
    "videopk = pickle.load(file)"
   ]
  },
  {
   "cell_type": "code",
   "execution_count": 49,
   "metadata": {},
   "outputs": [],
   "source": [
    "video_decrypted = key.decrypt(videopk)"
   ]
  },
  {
   "cell_type": "code",
   "execution_count": 50,
   "metadata": {},
   "outputs": [],
   "source": [
    "with open(\"../vid/vid_decrypted.mp4\", \"wb\") as dc:\n",
    "    dc.write(video_decrypted) "
   ]
  },
  {
   "cell_type": "markdown",
   "metadata": {},
   "source": [
    "<h2>IP</h2>"
   ]
  },
  {
   "cell_type": "code",
   "execution_count": 51,
   "metadata": {},
   "outputs": [
    {
     "name": "stdout",
     "output_type": "stream",
     "text": [
      "La dirección IP de tu computadora es: 192.168.100.5\n"
     ]
    }
   ],
   "source": [
    "import socket\n",
    "\n",
    "def obtener_ip():\n",
    "    try:\n",
    "        # Crear un socket de red\n",
    "        s = socket.socket(socket.AF_INET, socket.SOCK_DGRAM)\n",
    "\n",
    "        # Conectar a un servidor (puede ser cualquier dirección y puerto)\n",
    "        s.connect(('8.8.8.8', 80))\n",
    "\n",
    "        # Obtener la dirección IP local\n",
    "        ip = s.getsockname()[0]\n",
    "\n",
    "    except Exception as e:\n",
    "        print(f\"No se pudo obtener la dirección IP: {e}\")\n",
    "        ip = None\n",
    "\n",
    "    finally:\n",
    "        # Cerrar el socket\n",
    "        s.close()\n",
    "\n",
    "    return ip\n",
    "\n",
    "# Obtener la dirección IP y mostrarla\n",
    "direccion_ip = obtener_ip()\n",
    "\n",
    "if direccion_ip:\n",
    "    print(f\"La dirección IP de tu computadora es: {direccion_ip}\")\n",
    "else:\n",
    "    print(\"No se pudo obtener la dirección IP.\")\n"
   ]
  },
  {
   "cell_type": "code",
   "execution_count": 10,
   "metadata": {},
   "outputs": [],
   "source": [
    "from datetime import datetime"
   ]
  },
  {
   "cell_type": "code",
   "execution_count": 13,
   "metadata": {},
   "outputs": [
    {
     "name": "stdout",
     "output_type": "stream",
     "text": [
      "2024-01-26 02:48:55.079353\n"
     ]
    }
   ],
   "source": [
    "print(datetime.today().str)"
   ]
  }
 ],
 "metadata": {
  "kernelspec": {
   "display_name": "venv",
   "language": "python",
   "name": "python3"
  },
  "language_info": {
   "codemirror_mode": {
    "name": "ipython",
    "version": 3
   },
   "file_extension": ".py",
   "mimetype": "text/x-python",
   "name": "python",
   "nbconvert_exporter": "python",
   "pygments_lexer": "ipython3",
   "version": "3.11.6"
  }
 },
 "nbformat": 4,
 "nbformat_minor": 2
}
