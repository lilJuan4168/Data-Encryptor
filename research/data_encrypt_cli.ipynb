{
 "cells": [
  {
   "cell_type": "code",
   "execution_count": 1,
   "metadata": {},
   "outputs": [],
   "source": [
    "from cryptography.fernet import Fernet\n",
    "import pickle\n",
    "import os\n",
    "from datetime import datetime\n",
    "from time import sleep"
   ]
  },
  {
   "cell_type": "code",
   "execution_count": 12,
   "metadata": {},
   "outputs": [],
   "source": [
    "def create_key(my_password, path):\n",
    "    key = Fernet.generate_key() + my_password.encode('utf-8')\n",
    "    file_key = open(f\"{path}/password.pickle\", \"wb\")\n",
    "    pickle.dump(key, file_key)\n",
    "    file_key.close()\n",
    "    return key\n",
    "\n",
    "def data_encrypt(key, path, file):\n",
    "    my_key = Fernet(key)\n",
    "    with open(f\"{path}/{file}\", \"rb\") as v:\n",
    "        video = v.read()\n",
    "    video_encrypted = my_key.encrypt(video)\n",
    "    file_name = str(datetime.now().strftime(\"%Y-%m-%d-%H-%M-%S\"))\n",
    "    os.mkdir(f\"{path}/encrypted_files\")\n",
    "    pkfile = open(f\"{path}/encrypted_files/{file_name}.pickle\", \"wb\")\n",
    "    pickle.dump(video_encrypted, pkfile)\n",
    "    pkfile.close()\n",
    "    return True\n",
    "\n",
    "def data_decrypt(key, path, file):\n",
    "    my_key = Fernet(key)\n",
    "    filepk = open(f\"{path}/{file}\", \"rb\")\n",
    "    videopk = pickle.load(filepk)\n",
    "    filepk.close()\n",
    "    video_decrypted = my_key.decrypt(videopk)\n",
    "    os.mkdir(f\"{path}/decrypted_files\")\n",
    "    with open(f\"{path}/decrypted_files/{file}.mp4\", \"wb\") as dc:\n",
    "        dc.write(video_decrypted)\n",
    "    return video_decrypted"
   ]
  },
  {
   "cell_type": "code",
   "execution_count": 8,
   "metadata": {},
   "outputs": [],
   "source": [
    "#path = input(\"Write your path\")\n",
    "path = \"../vid\"\n",
    "#pwd = input(\"Write your password\")\n",
    "pwd = \"juancho123\"\n",
    "key = create_key(pwd, path)\n",
    "files = os.listdir(path)\n",
    "files.remove(\"password.pickle\")\n",
    "n_files = len(files)"
   ]
  },
  {
   "cell_type": "code",
   "execution_count": 11,
   "metadata": {},
   "outputs": [
    {
     "name": "stdout",
     "output_type": "stream",
     "text": [
      "../vid/mediapipe.mp4\n"
     ]
    }
   ],
   "source": [
    "for file in files:\n",
    "    vid_path = path+\"/\"+file\n",
    "    print(vid_path)\n",
    "    data_encrypt(key, path, file)\n",
    "    sleep(1)"
   ]
  },
  {
   "cell_type": "markdown",
   "metadata": {},
   "source": [
    "decrypt"
   ]
  },
  {
   "cell_type": "code",
   "execution_count": 14,
   "metadata": {},
   "outputs": [
    {
     "data": {
      "text/plain": [
       "b'o8JB4ax0ZKbLktgpcD-3ZZImf4Ecal3hhDg2dlmRdHk='"
      ]
     },
     "execution_count": 14,
     "metadata": {},
     "output_type": "execute_result"
    }
   ],
   "source": [
    "file = open(\"../vid/password.pickle\", \"rb\")\n",
    "key = pickle.load(file)\n",
    "file.close()\n",
    "key"
   ]
  },
  {
   "cell_type": "code",
   "execution_count": 13,
   "metadata": {},
   "outputs": [
    {
     "ename": "ValueError",
     "evalue": "list.remove(x): x not in list",
     "output_type": "error",
     "traceback": [
      "\u001b[0;31m---------------------------------------------------------------------------\u001b[0m",
      "\u001b[0;31mValueError\u001b[0m                                Traceback (most recent call last)",
      "\u001b[1;32m/home/juanm/Documents/Coding/Data-Encryptor/research/data_encrypt_cli.ipynb Cell 6\u001b[0m line \u001b[0;36m4\n\u001b[1;32m      <a href='vscode-notebook-cell:/home/juanm/Documents/Coding/Data-Encryptor/research/data_encrypt_cli.ipynb#W6sZmlsZQ%3D%3D?line=1'>2</a>\u001b[0m path \u001b[39m=\u001b[39m \u001b[39m\"\u001b[39m\u001b[39m../vid/encrypted_files\u001b[39m\u001b[39m\"\u001b[39m\n\u001b[1;32m      <a href='vscode-notebook-cell:/home/juanm/Documents/Coding/Data-Encryptor/research/data_encrypt_cli.ipynb#W6sZmlsZQ%3D%3D?line=2'>3</a>\u001b[0m files \u001b[39m=\u001b[39m os\u001b[39m.\u001b[39mlistdir(path)\n\u001b[0;32m----> <a href='vscode-notebook-cell:/home/juanm/Documents/Coding/Data-Encryptor/research/data_encrypt_cli.ipynb#W6sZmlsZQ%3D%3D?line=3'>4</a>\u001b[0m files\u001b[39m.\u001b[39;49mremove(\u001b[39m\"\u001b[39;49m\u001b[39mpassword.pickle\u001b[39;49m\u001b[39m\"\u001b[39;49m)\n\u001b[1;32m      <a href='vscode-notebook-cell:/home/juanm/Documents/Coding/Data-Encryptor/research/data_encrypt_cli.ipynb#W6sZmlsZQ%3D%3D?line=4'>5</a>\u001b[0m n_files \u001b[39m=\u001b[39m \u001b[39mlen\u001b[39m(files)\n\u001b[1;32m      <a href='vscode-notebook-cell:/home/juanm/Documents/Coding/Data-Encryptor/research/data_encrypt_cli.ipynb#W6sZmlsZQ%3D%3D?line=5'>6</a>\u001b[0m \u001b[39m#pwd = input(\"Write your password\")\u001b[39;00m\n",
      "\u001b[0;31mValueError\u001b[0m: list.remove(x): x not in list"
     ]
    }
   ],
   "source": [
    "#path = input(\"Write your path\")\n",
    "path = \"../vid/encrypted_files\"\n",
    "files = os.listdir(path)\n",
    "files.remove(\"password.pickle\")\n",
    "n_files = len(files)\n",
    "#pwd = input(\"Write your password\")\n",
    "pwd = \"juancho123\""
   ]
  },
  {
   "cell_type": "code",
   "execution_count": 48,
   "metadata": {},
   "outputs": [],
   "source": [
    "for file in files:\n",
    "    data_decrypt(key, path, file)\n",
    "    sleep(1)"
   ]
  }
 ],
 "metadata": {
  "kernelspec": {
   "display_name": "venv",
   "language": "python",
   "name": "python3"
  },
  "language_info": {
   "codemirror_mode": {
    "name": "ipython",
    "version": 3
   },
   "file_extension": ".py",
   "mimetype": "text/x-python",
   "name": "python",
   "nbconvert_exporter": "python",
   "pygments_lexer": "ipython3",
   "version": "3.11.6"
  }
 },
 "nbformat": 4,
 "nbformat_minor": 2
}
