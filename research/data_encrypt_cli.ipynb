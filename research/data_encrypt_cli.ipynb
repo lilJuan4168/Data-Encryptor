{
 "cells": [
  {
   "cell_type": "code",
   "execution_count": 30,
   "metadata": {},
   "outputs": [],
   "source": [
    "from cryptography.fernet import Fernet\n",
    "import pickle\n",
    "import os\n",
    "from datetime import datetime\n",
    "from time import sleep"
   ]
  },
  {
   "cell_type": "code",
   "execution_count": 45,
   "metadata": {},
   "outputs": [],
   "source": [
    "def create_key(my_password, path):\n",
    "    key = Fernet.generate_key() + my_password.encode('utf-8')\n",
    "    file_key = open(f\"{path}/password.pickle\", \"wb\")\n",
    "    pickle.dump(key, file_key)\n",
    "    file_key.close()\n",
    "    return key\n",
    "\n",
    "def data_encrypt(key, path, file):\n",
    "    my_key = Fernet(key)\n",
    "    with open(f\"{path}/{file}\", \"rb\") as v:\n",
    "        video = v.read()\n",
    "    video_encrypted = my_key.encrypt(video)\n",
    "    file_name = str(datetime.now().strftime(\"%Y-%m-%d-%H-%M-%S\"))\n",
    "    pkfile = open(f\"{path}/{file_name}.pickle\", \"wb\")\n",
    "    pickle.dump(video_encrypted, pkfile)\n",
    "    pkfile.close()\n",
    "    return True\n",
    "\n",
    "def data_decrypt(key, path, file):\n",
    "    my_key = Fernet(key)\n",
    "    filepk = open(f\"{path}/{file}\", \"rb\")\n",
    "    videopk = pickle.load(filepk)\n",
    "    filepk.close()\n",
    "    video_decrypted = my_key.decrypt(videopk)\n",
    "    with open(f\"{path}/{file}.mp4\", \"wb\") as dc:\n",
    "        dc.write(video_decrypted)\n",
    "    return video_decrypted"
   ]
  },
  {
   "cell_type": "code",
   "execution_count": 22,
   "metadata": {},
   "outputs": [],
   "source": [
    "#path = input(\"Write your path\")\n",
    "path = \"../vid\"\n",
    "files = os.listdir(path)\n",
    "n_files = len(files)\n",
    "#pwd = input(\"Write your password\")\n",
    "pwd = \"juancho123\"\n",
    "key = create_key(pwd, path)"
   ]
  },
  {
   "cell_type": "code",
   "execution_count": 24,
   "metadata": {},
   "outputs": [
    {
     "data": {
      "text/plain": [
       "['mediapipe.mp4', 'vid_decrypted.mp4']"
      ]
     },
     "execution_count": 24,
     "metadata": {},
     "output_type": "execute_result"
    }
   ],
   "source": [
    "files"
   ]
  },
  {
   "cell_type": "code",
   "execution_count": 33,
   "metadata": {},
   "outputs": [
    {
     "name": "stdout",
     "output_type": "stream",
     "text": [
      "../vid/mediapipe.mp4\n",
      "../vid/vid_decrypted.mp4\n"
     ]
    }
   ],
   "source": [
    "for file in files:\n",
    "    vid_path = path+\"/\"+file\n",
    "    print(vid_path)\n",
    "    data_encrypt(key, path, file)\n",
    "    sleep(1)"
   ]
  },
  {
   "cell_type": "markdown",
   "metadata": {},
   "source": [
    "decrypt"
   ]
  },
  {
   "cell_type": "code",
   "execution_count": 46,
   "metadata": {},
   "outputs": [],
   "source": [
    "#path = input(\"Write your path\")\n",
    "path = \"../vid\"\n",
    "files = os.listdir(path)\n",
    "n_files = len(files)\n",
    "#pwd = input(\"Write your password\")\n",
    "pwd = \"juancho123\""
   ]
  },
  {
   "cell_type": "code",
   "execution_count": 47,
   "metadata": {},
   "outputs": [
    {
     "data": {
      "text/plain": [
       "['2024-01-26-21-32-08.pickle', '2024-01-26-21-32-07.pickle']"
      ]
     },
     "execution_count": 47,
     "metadata": {},
     "output_type": "execute_result"
    }
   ],
   "source": [
    "files"
   ]
  },
  {
   "cell_type": "code",
   "execution_count": 48,
   "metadata": {},
   "outputs": [],
   "source": [
    "for file in files:\n",
    "    data_decrypt(key, path, file)\n",
    "    sleep(1)"
   ]
  }
 ],
 "metadata": {
  "kernelspec": {
   "display_name": "venv",
   "language": "python",
   "name": "python3"
  },
  "language_info": {
   "codemirror_mode": {
    "name": "ipython",
    "version": 3
   },
   "file_extension": ".py",
   "mimetype": "text/x-python",
   "name": "python",
   "nbconvert_exporter": "python",
   "pygments_lexer": "ipython3",
   "version": "3.11.6"
  }
 },
 "nbformat": 4,
 "nbformat_minor": 2
}
